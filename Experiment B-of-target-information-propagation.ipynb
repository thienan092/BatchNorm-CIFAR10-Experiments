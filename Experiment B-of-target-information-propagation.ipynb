{
 "cells": [
  {
   "cell_type": "code",
   "execution_count": 1,
   "metadata": {
    "_cell_guid": "b1076dfc-b9ad-4769-8c92-a6c4dae69d19",
    "_uuid": "8f2839f25d086af736a60e9eeb907d3b93b6e0e5",
    "execution": {
     "iopub.execute_input": "2023-12-04T00:06:38.029969Z",
     "iopub.status.busy": "2023-12-04T00:06:38.029591Z",
     "iopub.status.idle": "2023-12-04T00:06:43.312604Z",
     "shell.execute_reply": "2023-12-04T00:06:43.311318Z"
    },
    "papermill": {
     "duration": 5.29537,
     "end_time": "2023-12-04T00:06:43.316341",
     "exception": false,
     "start_time": "2023-12-04T00:06:38.020971",
     "status": "completed"
    },
    "tags": []
   },
   "outputs": [
    {
     "name": "stdout",
     "output_type": "stream",
     "text": [
      "Running on device: CUDA\n"
     ]
    }
   ],
   "source": [
    "from tqdm.notebook import tqdm\n",
    "\n",
    "import numpy as np\n",
    "import pandas as pd\n",
    "import matplotlib.pyplot as plt\n",
    "\n",
    "import torch\n",
    "from torch import nn\n",
    "from torch import optim\n",
    "from torch.utils.data import Dataset, DataLoader, ConcatDataset\n",
    "\n",
    "import torchvision\n",
    "from torchvision import transforms\n",
    "from torchvision.models import resnet18\n",
    "\n",
    "DEVICE = \"cuda\" if torch.cuda.is_available() else \"cpu\"\n",
    "print(\"Running on device:\", DEVICE.upper())"
   ]
  },
  {
   "cell_type": "code",
   "execution_count": 2,
   "metadata": {},
   "outputs": [],
   "source": [
    "def accuracy(net, loader, offset=0):\n",
    "    \"\"\"Return accuracy on a dataset given by the data loader.\"\"\"\n",
    "    correct = 0\n",
    "    total = 0\n",
    "    for inputs, targets in loader:\n",
    "        inputs, targets = inputs.to(DEVICE), ((targets+offset)%10).to(DEVICE)\n",
    "        outputs = net(inputs)\n",
    "        _, predicted = outputs.max(1)\n",
    "        total += targets.size(0)\n",
    "        correct += predicted.eq(targets).sum().item()\n",
    "    return correct / total"
   ]
  },
  {
   "cell_type": "code",
   "execution_count": 3,
   "metadata": {},
   "outputs": [],
   "source": [
    "def reset_batchnorm(m):\n",
    "    if isinstance(m, nn.BatchNorm2d):\n",
    "        m.reset_parameters()\n",
    "        with torch.no_grad():\n",
    "            m.weight.fill_(1.0)\n",
    "            m.bias.zero_()\n",
    "\n",
    "def deactivate_batchnorm(m):\n",
    "    if isinstance(m, nn.BatchNorm2d):\n",
    "        m.eval()\n",
    "def activate_batchnorm(m):\n",
    "    if isinstance(m, nn.BatchNorm2d):\n",
    "        m.train()\n",
    "        \n",
    "class Model(nn.Module):\n",
    "    def __init__(self):\n",
    "        super(Model, self).__init__()\n",
    "        self.param = nn.Parameter(torch.from_numpy(np.random.rand(128,3,32,32)).float())\n",
    "        self.ret_net = resnet18(pretrained=False, num_classes=10)\n",
    "\n",
    "    def forward(self, x):\n",
    "        x0 = self.ret_net(self.param)\n",
    "\n",
    "        return x0\n",
    "            \n",
    "class HiddenDataset(Dataset):\n",
    "    '''The hidden dataset.'''\n",
    "    def __init__(self, dataset):\n",
    "        super().__init__()\n",
    "        self.dataset = dataset\n",
    "\n",
    "    def __len__(self):\n",
    "        return len(self.dataset)\n",
    "\n",
    "    def __getitem__(self, idx):\n",
    "        example = self.dataset[idx]\n",
    "        return example[0], example[1], idx\n",
    "\n",
    "# You can replace the below simple unlearning with your own unlearning function.\n",
    "\n",
    "def training(\n",
    "    net, \n",
    "    train_loader, \n",
    "    is_batchnorm_disabled=False):\n",
    "    \"\"\"Simple unlearning by finetuning.\"\"\"\n",
    "    epochs = 32\n",
    "    probs = torch.from_numpy(np.zeros((128,))).to(DEVICE)\n",
    "    criterion = nn.CrossEntropyLoss(reduction='none')\n",
    "    net.ret_net.apply(reset_batchnorm)\n",
    "    net.train()\n",
    "    optimizer = optim.SGD(net.parameters(), lr=0.01, momentum=0.9, weight_decay=4e-3)\n",
    "    scheduler = optim.lr_scheduler.CosineAnnealingLR(optimizer, T_max=epochs)\n",
    "    coin = 0\n",
    "    for ep in range(epochs+128):\n",
    "        for i, (inputs, targets) in enumerate(train_loader):\n",
    "            if targets.size(0)!=128:\n",
    "                break\n",
    "            if ep==epochs and i==0:\n",
    "                torch.save(net.state_dict(), 'checkpoint.pth')\n",
    "            # if ep>=epochs:\n",
    "            #     net.load_state_dict(torch.load('checkpoint.pth'))\n",
    "            # coin = int(np.random.choice(range(10)))\n",
    "            targets = ((targets+coin)%10)\n",
    "            inputs, targets = (0.*inputs+1.).to(DEVICE), targets.to(DEVICE)\n",
    "            \n",
    "            net.ret_net.apply(deactivate_batchnorm)\n",
    "            net.param.grad = None\n",
    "            optimizer.zero_grad()\n",
    "            output0 = net(inputs)\n",
    "            loss0 = criterion(output0, targets)\n",
    "\n",
    "            loss = loss0.mean()\n",
    "            loss.backward()\n",
    "            net.param.data = net.param.data-net.param.grad\n",
    "            \n",
    "            if is_batchnorm_disabled==False:\n",
    "                net.ret_net.apply(activate_batchnorm)\n",
    "            optimizer.zero_grad()\n",
    "            output0 = net(inputs)\n",
    "            loss0 = criterion(output0, targets)\n",
    "\n",
    "            loss = loss0.mean()\n",
    "            loss.backward()\n",
    "            optimizer.step()\n",
    "\n",
    "            if ep>=epochs:\n",
    "                with torch.no_grad():\n",
    "                    output0 = net(inputs)\n",
    "                    labels = torch.argmax(output0,dim=-1).detach()\n",
    "                    probs[ep-epochs] = (labels==targets).float().mean()\n",
    "        if ep<epochs:\n",
    "            scheduler.step()\n",
    "    net.eval()\n",
    "    print(coin)\n",
    "    if is_batchnorm_disabled:\n",
    "        np.save(\"ExB_vanilla_probs.npy\", probs.cpu().numpy())\n",
    "    else:\n",
    "        np.save(\"ExB_bn_probs.npy\", probs.cpu().numpy())\n",
    "    return net"
   ]
  },
  {
   "cell_type": "code",
   "execution_count": 4,
   "metadata": {
    "execution": {
     "iopub.execute_input": "2023-12-04T00:06:43.552075Z",
     "iopub.status.busy": "2023-12-04T00:06:43.551837Z",
     "iopub.status.idle": "2023-12-04T02:12:27.584284Z",
     "shell.execute_reply": "2023-12-04T02:12:27.583354Z"
    },
    "papermill": {
     "duration": 7544.042532,
     "end_time": "2023-12-04T02:12:27.586816",
     "exception": false,
     "start_time": "2023-12-04T00:06:43.544284",
     "status": "completed"
    },
    "tags": []
   },
   "outputs": [
    {
     "name": "stdout",
     "output_type": "stream",
     "text": [
      "Files already downloaded and verified\n",
      "Files already downloaded and verified\n",
      "0\n"
     ]
    }
   ],
   "source": [
    "from load_cifar_script import get_cifar10_data\n",
    "\n",
    "data_loaders = get_cifar10_data()\n",
    "\n",
    "net = Model()\n",
    "net.to(DEVICE)\n",
    "net = training(net, data_loaders[\"training\"], is_batchnorm_disabled=False)"
   ]
  },
  {
   "cell_type": "code",
   "execution_count": 5,
   "metadata": {
    "execution": {
     "iopub.execute_input": "2023-12-04T02:12:27.620608Z",
     "iopub.status.busy": "2023-12-04T02:12:27.620303Z",
     "iopub.status.idle": "2023-12-04T02:12:27.626591Z",
     "shell.execute_reply": "2023-12-04T02:12:27.625791Z"
    },
    "papermill": {
     "duration": 0.025049,
     "end_time": "2023-12-04T02:12:27.628610",
     "exception": false,
     "start_time": "2023-12-04T02:12:27.603561",
     "status": "completed"
    },
    "tags": []
   },
   "outputs": [
    {
     "data": {
      "text/plain": [
       "array([0.2109375, 0.1953125, 0.203125 , 0.1875   , 0.1875   , 0.1875   ,\n",
       "       0.2109375, 0.140625 , 0.15625  , 0.1484375, 0.1015625, 0.09375  ,\n",
       "       0.1015625, 0.1953125, 0.2734375, 0.09375  , 0.125    , 0.1171875,\n",
       "       0.1796875, 0.09375  , 0.171875 , 0.1875   , 0.1484375, 0.1484375,\n",
       "       0.265625 , 0.1875   , 0.1328125, 0.1015625, 0.1875   , 0.1875   ,\n",
       "       0.171875 , 0.125    , 0.1328125, 0.1484375, 0.0859375, 0.203125 ,\n",
       "       0.1484375, 0.203125 , 0.1953125, 0.140625 , 0.140625 , 0.1171875,\n",
       "       0.1484375, 0.1015625, 0.171875 , 0.2578125, 0.1953125, 0.171875 ,\n",
       "       0.125    , 0.2578125, 0.125    , 0.109375 , 0.21875  , 0.1015625,\n",
       "       0.171875 , 0.28125  , 0.0859375, 0.1953125, 0.09375  , 0.1171875,\n",
       "       0.0625   , 0.15625  , 0.0703125, 0.140625 , 0.171875 , 0.15625  ,\n",
       "       0.1640625, 0.109375 , 0.21875  , 0.1484375, 0.171875 , 0.1640625,\n",
       "       0.1640625, 0.203125 , 0.25     , 0.2265625, 0.15625  , 0.140625 ,\n",
       "       0.1875   , 0.203125 , 0.15625  , 0.2109375, 0.171875 , 0.21875  ,\n",
       "       0.203125 , 0.15625  , 0.109375 , 0.2109375, 0.2109375, 0.1796875,\n",
       "       0.109375 , 0.203125 , 0.203125 , 0.2265625, 0.234375 , 0.1796875,\n",
       "       0.1484375, 0.1640625, 0.2109375, 0.1953125, 0.1640625, 0.2265625,\n",
       "       0.15625  , 0.2734375, 0.234375 , 0.1640625, 0.1640625, 0.109375 ,\n",
       "       0.1953125, 0.265625 , 0.2265625, 0.234375 , 0.2265625, 0.2265625,\n",
       "       0.1328125, 0.2109375, 0.1875   , 0.2578125, 0.109375 , 0.171875 ,\n",
       "       0.1640625, 0.125    , 0.171875 , 0.203125 , 0.21875  , 0.203125 ,\n",
       "       0.125    , 0.2109375])"
      ]
     },
     "execution_count": 5,
     "metadata": {},
     "output_type": "execute_result"
    }
   ],
   "source": [
    "bn_probs = np.load(\"ExB_bn_probs.npy\")\n",
    "bn_probs"
   ]
  },
  {
   "cell_type": "code",
   "execution_count": null,
   "metadata": {},
   "outputs": [],
   "source": [
    "net = Model()\n",
    "net.to(DEVICE)\n",
    "net = training(net, data_loaders[\"training\"], is_batchnorm_disabled=True)"
   ]
  },
  {
   "cell_type": "code",
   "execution_count": null,
   "metadata": {},
   "outputs": [],
   "source": [
    "vanilla_probs = np.load(\"ExB_vanilla_probs.npy\")\n",
    "vanilla_probs"
   ]
  },
  {
   "cell_type": "code",
   "execution_count": null,
   "metadata": {},
   "outputs": [],
   "source": [
    "probs_df = pd.DataFrame(list(zip(range(128), bn_probs.tolist(), vanilla_probs.tolist())), columns=[\"order\", \"bn\", \"vanilla\"])\n",
    "probs_df.to_csv(\"ExB_probs.csv\",index=False)"
   ]
  },
  {
   "cell_type": "code",
   "execution_count": null,
   "metadata": {},
   "outputs": [],
   "source": [
    "df = pd.DataFrame({'bn': np.sort(bn_probs).tolist(), 'vanilla': np.sort(vanilla_probs,).tolist()})\n",
    "df.plot.hist(stacked=True, bins=30)\n",
    "plt.savefig('ExB_hist.png')"
   ]
  },
  {
   "cell_type": "code",
   "execution_count": null,
   "metadata": {},
   "outputs": [],
   "source": [
    "ax = df.plot.box(notch=True)\n",
    "ax.hlines(.1, .5, 2.5, linestyle='--', color='pink')\n",
    "plt.savefig('ExB_box.png')"
   ]
  }
 ],
 "metadata": {
  "kaggle": {
   "accelerator": "gpu",
   "dataSources": [
    {
     "sourceId": 153432666,
     "sourceType": "kernelVersion"
    }
   ],
   "dockerImageVersionId": 30588,
   "isGpuEnabled": true,
   "isInternetEnabled": true,
   "language": "python",
   "sourceType": "notebook"
  },
  "kernelspec": {
   "display_name": "Python 3",
   "language": "python",
   "name": "python3"
  },
  "language_info": {
   "codemirror_mode": {
    "name": "ipython",
    "version": 3
   },
   "file_extension": ".py",
   "mimetype": "text/x-python",
   "name": "python",
   "nbconvert_exporter": "python",
   "pygments_lexer": "ipython3",
   "version": "3.6.7"
  },
  "papermill": {
   "default_parameters": {},
   "duration": 7556.627451,
   "end_time": "2023-12-04T02:12:31.279986",
   "environment_variables": {},
   "exception": null,
   "input_path": "__notebook__.ipynb",
   "output_path": "__notebook__.ipynb",
   "parameters": {},
   "start_time": "2023-12-04T00:06:34.652535",
   "version": "2.4.0"
  },
  "widgets": {
   "application/vnd.jupyter.widget-state+json": {
    "state": {
     "00941f452b014da48d6d80a1a6b18fa1": {
      "model_module": "@jupyter-widgets/controls",
      "model_module_version": "1.5.0",
      "model_name": "DescriptionStyleModel",
      "state": {
       "_model_module": "@jupyter-widgets/controls",
       "_model_module_version": "1.5.0",
       "_model_name": "DescriptionStyleModel",
       "_view_count": null,
       "_view_module": "@jupyter-widgets/base",
       "_view_module_version": "1.2.0",
       "_view_name": "StyleView",
       "description_width": ""
      }
     },
     "212e7186ec7a4bdeb6518e0f9e417d92": {
      "model_module": "@jupyter-widgets/base",
      "model_module_version": "1.2.0",
      "model_name": "LayoutModel",
      "state": {
       "_model_module": "@jupyter-widgets/base",
       "_model_module_version": "1.2.0",
       "_model_name": "LayoutModel",
       "_view_count": null,
       "_view_module": "@jupyter-widgets/base",
       "_view_module_version": "1.2.0",
       "_view_name": "LayoutView",
       "align_content": null,
       "align_items": null,
       "align_self": null,
       "border": null,
       "bottom": null,
       "display": null,
       "flex": null,
       "flex_flow": null,
       "grid_area": null,
       "grid_auto_columns": null,
       "grid_auto_flow": null,
       "grid_auto_rows": null,
       "grid_column": null,
       "grid_gap": null,
       "grid_row": null,
       "grid_template_areas": null,
       "grid_template_columns": null,
       "grid_template_rows": null,
       "height": null,
       "justify_content": null,
       "justify_items": null,
       "left": null,
       "margin": null,
       "max_height": null,
       "max_width": null,
       "min_height": null,
       "min_width": null,
       "object_fit": null,
       "object_position": null,
       "order": null,
       "overflow": null,
       "overflow_x": null,
       "overflow_y": null,
       "padding": null,
       "right": null,
       "top": null,
       "visibility": null,
       "width": null
      }
     },
     "5f9775e5c6d044da9eda0a4621a4e15d": {
      "model_module": "@jupyter-widgets/controls",
      "model_module_version": "1.5.0",
      "model_name": "ProgressStyleModel",
      "state": {
       "_model_module": "@jupyter-widgets/controls",
       "_model_module_version": "1.5.0",
       "_model_name": "ProgressStyleModel",
       "_view_count": null,
       "_view_module": "@jupyter-widgets/base",
       "_view_module_version": "1.2.0",
       "_view_name": "StyleView",
       "bar_color": null,
       "description_width": ""
      }
     },
     "6ac4481d836d49adbd39ba40c3174396": {
      "model_module": "@jupyter-widgets/controls",
      "model_module_version": "1.5.0",
      "model_name": "HTMLModel",
      "state": {
       "_dom_classes": [],
       "_model_module": "@jupyter-widgets/controls",
       "_model_module_version": "1.5.0",
       "_model_name": "HTMLModel",
       "_view_count": null,
       "_view_module": "@jupyter-widgets/controls",
       "_view_module_version": "1.5.0",
       "_view_name": "HTMLView",
       "description": "",
       "description_tooltip": null,
       "layout": "IPY_MODEL_ca7166462d984abf8a9fc3d867a0b9bc",
       "placeholder": "​",
       "style": "IPY_MODEL_a4685147111d436898aff3b8248e8a99",
       "value": "Computing forget accuracy...: 100%"
      }
     },
     "8d12c38974d748e9a72857e1872b307c": {
      "model_module": "@jupyter-widgets/controls",
      "model_module_version": "1.5.0",
      "model_name": "FloatProgressModel",
      "state": {
       "_dom_classes": [],
       "_model_module": "@jupyter-widgets/controls",
       "_model_module_version": "1.5.0",
       "_model_name": "FloatProgressModel",
       "_view_count": null,
       "_view_module": "@jupyter-widgets/controls",
       "_view_module_version": "1.5.0",
       "_view_name": "ProgressView",
       "bar_style": "success",
       "description": "",
       "description_tooltip": null,
       "layout": "IPY_MODEL_a9249a30a88447d3a5ca03a505b9ed8a",
       "max": 10,
       "min": 0,
       "orientation": "horizontal",
       "style": "IPY_MODEL_5f9775e5c6d044da9eda0a4621a4e15d",
       "value": 10
      }
     },
     "a41950d489554250805e52583dddb4ad": {
      "model_module": "@jupyter-widgets/base",
      "model_module_version": "1.2.0",
      "model_name": "LayoutModel",
      "state": {
       "_model_module": "@jupyter-widgets/base",
       "_model_module_version": "1.2.0",
       "_model_name": "LayoutModel",
       "_view_count": null,
       "_view_module": "@jupyter-widgets/base",
       "_view_module_version": "1.2.0",
       "_view_name": "LayoutView",
       "align_content": null,
       "align_items": null,
       "align_self": null,
       "border": null,
       "bottom": null,
       "display": null,
       "flex": null,
       "flex_flow": null,
       "grid_area": null,
       "grid_auto_columns": null,
       "grid_auto_flow": null,
       "grid_auto_rows": null,
       "grid_column": null,
       "grid_gap": null,
       "grid_row": null,
       "grid_template_areas": null,
       "grid_template_columns": null,
       "grid_template_rows": null,
       "height": null,
       "justify_content": null,
       "justify_items": null,
       "left": null,
       "margin": null,
       "max_height": null,
       "max_width": null,
       "min_height": null,
       "min_width": null,
       "object_fit": null,
       "object_position": null,
       "order": null,
       "overflow": null,
       "overflow_x": null,
       "overflow_y": null,
       "padding": null,
       "right": null,
       "top": null,
       "visibility": null,
       "width": null
      }
     },
     "a4685147111d436898aff3b8248e8a99": {
      "model_module": "@jupyter-widgets/controls",
      "model_module_version": "1.5.0",
      "model_name": "DescriptionStyleModel",
      "state": {
       "_model_module": "@jupyter-widgets/controls",
       "_model_module_version": "1.5.0",
       "_model_name": "DescriptionStyleModel",
       "_view_count": null,
       "_view_module": "@jupyter-widgets/base",
       "_view_module_version": "1.2.0",
       "_view_name": "StyleView",
       "description_width": ""
      }
     },
     "a9249a30a88447d3a5ca03a505b9ed8a": {
      "model_module": "@jupyter-widgets/base",
      "model_module_version": "1.2.0",
      "model_name": "LayoutModel",
      "state": {
       "_model_module": "@jupyter-widgets/base",
       "_model_module_version": "1.2.0",
       "_model_name": "LayoutModel",
       "_view_count": null,
       "_view_module": "@jupyter-widgets/base",
       "_view_module_version": "1.2.0",
       "_view_name": "LayoutView",
       "align_content": null,
       "align_items": null,
       "align_self": null,
       "border": null,
       "bottom": null,
       "display": null,
       "flex": null,
       "flex_flow": null,
       "grid_area": null,
       "grid_auto_columns": null,
       "grid_auto_flow": null,
       "grid_auto_rows": null,
       "grid_column": null,
       "grid_gap": null,
       "grid_row": null,
       "grid_template_areas": null,
       "grid_template_columns": null,
       "grid_template_rows": null,
       "height": null,
       "justify_content": null,
       "justify_items": null,
       "left": null,
       "margin": null,
       "max_height": null,
       "max_width": null,
       "min_height": null,
       "min_width": null,
       "object_fit": null,
       "object_position": null,
       "order": null,
       "overflow": null,
       "overflow_x": null,
       "overflow_y": null,
       "padding": null,
       "right": null,
       "top": null,
       "visibility": null,
       "width": null
      }
     },
     "ca7166462d984abf8a9fc3d867a0b9bc": {
      "model_module": "@jupyter-widgets/base",
      "model_module_version": "1.2.0",
      "model_name": "LayoutModel",
      "state": {
       "_model_module": "@jupyter-widgets/base",
       "_model_module_version": "1.2.0",
       "_model_name": "LayoutModel",
       "_view_count": null,
       "_view_module": "@jupyter-widgets/base",
       "_view_module_version": "1.2.0",
       "_view_name": "LayoutView",
       "align_content": null,
       "align_items": null,
       "align_self": null,
       "border": null,
       "bottom": null,
       "display": null,
       "flex": null,
       "flex_flow": null,
       "grid_area": null,
       "grid_auto_columns": null,
       "grid_auto_flow": null,
       "grid_auto_rows": null,
       "grid_column": null,
       "grid_gap": null,
       "grid_row": null,
       "grid_template_areas": null,
       "grid_template_columns": null,
       "grid_template_rows": null,
       "height": null,
       "justify_content": null,
       "justify_items": null,
       "left": null,
       "margin": null,
       "max_height": null,
       "max_width": null,
       "min_height": null,
       "min_width": null,
       "object_fit": null,
       "object_position": null,
       "order": null,
       "overflow": null,
       "overflow_x": null,
       "overflow_y": null,
       "padding": null,
       "right": null,
       "top": null,
       "visibility": null,
       "width": null
      }
     },
     "dcff9d39c99747c29b080f10e9e4ceb9": {
      "model_module": "@jupyter-widgets/controls",
      "model_module_version": "1.5.0",
      "model_name": "HBoxModel",
      "state": {
       "_dom_classes": [],
       "_model_module": "@jupyter-widgets/controls",
       "_model_module_version": "1.5.0",
       "_model_name": "HBoxModel",
       "_view_count": null,
       "_view_module": "@jupyter-widgets/controls",
       "_view_module_version": "1.5.0",
       "_view_name": "HBoxView",
       "box_style": "",
       "children": [
        "IPY_MODEL_6ac4481d836d49adbd39ba40c3174396",
        "IPY_MODEL_8d12c38974d748e9a72857e1872b307c",
        "IPY_MODEL_edc95e562467482bba9a8bdd25c9372d"
       ],
       "layout": "IPY_MODEL_212e7186ec7a4bdeb6518e0f9e417d92"
      }
     },
     "edc95e562467482bba9a8bdd25c9372d": {
      "model_module": "@jupyter-widgets/controls",
      "model_module_version": "1.5.0",
      "model_name": "HTMLModel",
      "state": {
       "_dom_classes": [],
       "_model_module": "@jupyter-widgets/controls",
       "_model_module_version": "1.5.0",
       "_model_name": "HTMLModel",
       "_view_count": null,
       "_view_module": "@jupyter-widgets/controls",
       "_view_module_version": "1.5.0",
       "_view_name": "HTMLView",
       "description": "",
       "description_tooltip": null,
       "layout": "IPY_MODEL_a41950d489554250805e52583dddb4ad",
       "placeholder": "​",
       "style": "IPY_MODEL_00941f452b014da48d6d80a1a6b18fa1",
       "value": " 10/10 [2:05:18&lt;00:00, 751.29s/it]"
      }
     }
    },
    "version_major": 2,
    "version_minor": 0
   }
  }
 },
 "nbformat": 4,
 "nbformat_minor": 5
}
