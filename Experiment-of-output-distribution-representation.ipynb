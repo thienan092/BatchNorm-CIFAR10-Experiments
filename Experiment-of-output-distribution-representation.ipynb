{
 "cells": [
  {
   "cell_type": "code",
   "execution_count": 1,
   "metadata": {
    "_cell_guid": "b1076dfc-b9ad-4769-8c92-a6c4dae69d19",
    "_uuid": "8f2839f25d086af736a60e9eeb907d3b93b6e0e5",
    "execution": {
     "iopub.execute_input": "2024-01-15T09:32:34.401487Z",
     "iopub.status.busy": "2024-01-15T09:32:34.401181Z",
     "iopub.status.idle": "2024-01-15T09:32:38.513016Z",
     "shell.execute_reply": "2024-01-15T09:32:38.512024Z"
    },
    "papermill": {
     "duration": 4.120948,
     "end_time": "2024-01-15T09:32:38.515228",
     "exception": false,
     "start_time": "2024-01-15T09:32:34.394280",
     "status": "completed"
    },
    "tags": []
   },
   "outputs": [
    {
     "name": "stdout",
     "output_type": "stream",
     "text": [
      "Running on device: CUDA\n"
     ]
    }
   ],
   "source": [
    "from tqdm.notebook import tqdm\n",
    "\n",
    "import numpy as np\n",
    "import pandas as pd\n",
    "import matplotlib.pyplot as plt\n",
    "\n",
    "import torch\n",
    "from torch import nn\n",
    "from torch import optim\n",
    "from torch.utils.data import Dataset, DataLoader, ConcatDataset\n",
    "\n",
    "import torchvision\n",
    "from torchvision import transforms\n",
    "from torchvision.models import resnet18\n",
    "\n",
    "DEVICE = \"cuda\" if torch.cuda.is_available() else \"cpu\"\n",
    "print(\"Running on device:\", DEVICE.upper())"
   ]
  },
  {
   "cell_type": "code",
   "execution_count": 2,
   "metadata": {
    "execution": {
     "iopub.execute_input": "2024-01-15T09:32:38.527327Z",
     "iopub.status.busy": "2024-01-15T09:32:38.526907Z",
     "iopub.status.idle": "2024-01-15T09:32:38.532978Z",
     "shell.execute_reply": "2024-01-15T09:32:38.532188Z"
    },
    "papermill": {
     "duration": 0.013905,
     "end_time": "2024-01-15T09:32:38.534805",
     "exception": false,
     "start_time": "2024-01-15T09:32:38.520900",
     "status": "completed"
    },
    "tags": []
   },
   "outputs": [],
   "source": [
    "def accuracy(net, loader, offset=0):\n",
    "    \"\"\"Return accuracy on a dataset given by the data loader.\"\"\"\n",
    "    correct = 0\n",
    "    total = 0\n",
    "    for inputs, targets in loader:\n",
    "        inputs, targets = inputs.to(DEVICE), ((targets+offset)%10).to(DEVICE)\n",
    "        outputs = net(inputs)\n",
    "        _, predicted = outputs.max(1)\n",
    "        total += targets.size(0)\n",
    "        correct += predicted.eq(targets).sum().item()\n",
    "    return correct / total"
   ]
  },
  {
   "cell_type": "code",
   "execution_count": 3,
   "metadata": {
    "execution": {
     "iopub.execute_input": "2024-01-15T09:32:38.546198Z",
     "iopub.status.busy": "2024-01-15T09:32:38.545901Z",
     "iopub.status.idle": "2024-01-15T09:32:38.558721Z",
     "shell.execute_reply": "2024-01-15T09:32:38.557891Z"
    },
    "papermill": {
     "duration": 0.020623,
     "end_time": "2024-01-15T09:32:38.560503",
     "exception": false,
     "start_time": "2024-01-15T09:32:38.539880",
     "status": "completed"
    },
    "tags": []
   },
   "outputs": [],
   "source": [
    "def reset_batchnorm(m):\n",
    "    if isinstance(m, nn.BatchNorm2d):\n",
    "        m.reset_parameters()\n",
    "        with torch.no_grad():\n",
    "            m.weight.fill_(1.0)\n",
    "            m.bias.zero_()\n",
    "# https://discuss.pytorch.org/t/how-to-close-batchnorm-when-using-torchvision-models/21812/2\n",
    "def deactivate_batchnorm(m):\n",
    "    if isinstance(m, nn.BatchNorm2d):\n",
    "        m.reset_parameters()\n",
    "        m.eval()\n",
    "        with torch.no_grad():\n",
    "            m.weight.fill_(1.0)\n",
    "            m.bias.zero_()\n",
    "            \n",
    "class HiddenDataset(Dataset):\n",
    "    '''The hidden dataset.'''\n",
    "    def __init__(self, dataset):\n",
    "        super().__init__()\n",
    "        self.dataset = dataset\n",
    "\n",
    "    def __len__(self):\n",
    "        return len(self.dataset)\n",
    "\n",
    "    def __getitem__(self, idx):\n",
    "        example = self.dataset[idx]\n",
    "        return example[0], example[1], idx\n",
    "\n",
    "# You can replace the below simple unlearning with your own unlearning function.\n",
    "\n",
    "def training(\n",
    "    net, \n",
    "    train_loader, \n",
    "    offset_range=0, \n",
    "    is_batchnorm_disabled=False):\n",
    "    \"\"\"Simple unlearning by finetuning.\"\"\"\n",
    "    epochs = 32\n",
    "    criterion = nn.CrossEntropyLoss(reduction='none')\n",
    "    net.apply(reset_batchnorm)\n",
    "    net.train()\n",
    "    optimizer = optim.SGD(net.parameters(), lr=0.01, momentum=0.9, weight_decay=4e-3)\n",
    "    scheduler = optim.lr_scheduler.CosineAnnealingLR(optimizer, T_max=epochs)\n",
    "    coin = 0\n",
    "    for ep in range(epochs):\n",
    "        for i, (inputs, targets) in enumerate(train_loader):\n",
    "            if targets.size(0)!=128:\n",
    "                break\n",
    "            coin = int(np.random.choice(range(offset_range)))\n",
    "            targets = ((targets+coin)%10)\n",
    "            inputs, targets = inputs.to(DEVICE), targets.to(DEVICE)\n",
    "            \n",
    "            if is_batchnorm_disabled:\n",
    "                net.apply(deactivate_batchnorm)\n",
    "            optimizer.zero_grad()\n",
    "            output0 = net(inputs)\n",
    "            loss0 = criterion(output0, targets)\n",
    "\n",
    "            loss = loss0.mean()\n",
    "            loss.backward()\n",
    "            optimizer.step()\n",
    "\n",
    "        scheduler.step()\n",
    "    net.eval()\n",
    "    print(coin)\n",
    "    return net"
   ]
  },
  {
   "cell_type": "code",
   "execution_count": 4,
   "metadata": {
    "execution": {
     "iopub.execute_input": "2024-01-15T09:32:38.571826Z",
     "iopub.status.busy": "2024-01-15T09:32:38.571594Z",
     "iopub.status.idle": "2024-01-15T09:45:28.561290Z",
     "shell.execute_reply": "2024-01-15T09:45:28.560475Z"
    },
    "papermill": {
     "duration": 769.997701,
     "end_time": "2024-01-15T09:45:28.563504",
     "exception": false,
     "start_time": "2024-01-15T09:32:38.565803",
     "status": "completed"
    },
    "tags": []
   },
   "outputs": [
    {
     "name": "stdout",
     "output_type": "stream",
     "text": [
      "Downloading https://www.cs.toronto.edu/~kriz/cifar-10-python.tar.gz to ./data/cifar-10-python.tar.gz\n"
     ]
    },
    {
     "name": "stderr",
     "output_type": "stream",
     "text": [
      "100%|██████████| 170498071/170498071 [00:16<00:00, 10184126.27it/s]\n"
     ]
    },
    {
     "name": "stdout",
     "output_type": "stream",
     "text": [
      "Extracting ./data/cifar-10-python.tar.gz to ./data\n",
      "Files already downloaded and verified\n"
     ]
    },
    {
     "name": "stderr",
     "output_type": "stream",
     "text": [
      "/opt/conda/lib/python3.10/site-packages/torchvision/models/_utils.py:208: UserWarning: The parameter 'pretrained' is deprecated since 0.13 and may be removed in the future, please use 'weights' instead.\n",
      "  warnings.warn(\n",
      "/opt/conda/lib/python3.10/site-packages/torchvision/models/_utils.py:223: UserWarning: Arguments other than a weight enum or `None` for 'weights' are deprecated since 0.13 and may be removed in the future. The current behavior is equivalent to passing `weights=None`.\n",
      "  warnings.warn(msg)\n"
     ]
    },
    {
     "name": "stdout",
     "output_type": "stream",
     "text": [
      "3\n"
     ]
    }
   ],
   "source": [
    "from load_cifar_script import get_cifar10_data\n",
    "\n",
    "data_loaders = get_cifar10_data()\n",
    "\n",
    "offset_range = 10\n",
    "validation_accuracy = []\n",
    "\n",
    "net = resnet18(pretrained=False, num_classes=10)\n",
    "net.to(DEVICE)\n",
    "net = training(net, data_loaders[\"training\"], offset_range=offset_range, is_batchnorm_disabled=False)\n",
    "\n",
    "for i in range(10):\n",
    "    validation_accuracy.append(accuracy(net, data_loaders[\"validation\"], i))"
   ]
  },
  {
   "cell_type": "code",
   "execution_count": 5,
   "metadata": {
    "execution": {
     "iopub.execute_input": "2024-01-15T09:45:28.591525Z",
     "iopub.status.busy": "2024-01-15T09:45:28.591223Z",
     "iopub.status.idle": "2024-01-15T09:45:28.598179Z",
     "shell.execute_reply": "2024-01-15T09:45:28.597334Z"
    },
    "papermill": {
     "duration": 0.023202,
     "end_time": "2024-01-15T09:45:28.600130",
     "exception": false,
     "start_time": "2024-01-15T09:45:28.576928",
     "status": "completed"
    },
    "tags": []
   },
   "outputs": [
    {
     "data": {
      "text/plain": [
       "array([0.0994, 0.0986, 0.1008, 0.095 , 0.1032, 0.1056, 0.0972, 0.0958,\n",
       "       0.0998, 0.1046])"
      ]
     },
     "execution_count": 5,
     "metadata": {},
     "output_type": "execute_result"
    }
   ],
   "source": [
    "bn_validation_acc = np.array(validation_accuracy[-10:])\n",
    "bn_validation_acc"
   ]
  },
  {
   "cell_type": "code",
   "execution_count": 6,
   "metadata": {
    "execution": {
     "iopub.execute_input": "2024-01-15T09:45:28.627630Z",
     "iopub.status.busy": "2024-01-15T09:45:28.627358Z",
     "iopub.status.idle": "2024-01-15T09:58:27.748358Z",
     "shell.execute_reply": "2024-01-15T09:58:27.747559Z"
    },
    "papermill": {
     "duration": 779.137328,
     "end_time": "2024-01-15T09:58:27.750603",
     "exception": false,
     "start_time": "2024-01-15T09:45:28.613275",
     "status": "completed"
    },
    "tags": []
   },
   "outputs": [
    {
     "name": "stdout",
     "output_type": "stream",
     "text": [
      "8\n"
     ]
    }
   ],
   "source": [
    "net = resnet18(pretrained=False, num_classes=10)\n",
    "net.to(DEVICE)\n",
    "net = training(net, data_loaders[\"training\"], offset_range=offset_range, is_batchnorm_disabled=True)\n",
    "\n",
    "for i in range(10):\n",
    "    validation_accuracy.append(accuracy(net, data_loaders[\"validation\"], i))"
   ]
  },
  {
   "cell_type": "code",
   "execution_count": 7,
   "metadata": {
    "execution": {
     "iopub.execute_input": "2024-01-15T09:58:27.780449Z",
     "iopub.status.busy": "2024-01-15T09:58:27.779621Z",
     "iopub.status.idle": "2024-01-15T09:58:27.786333Z",
     "shell.execute_reply": "2024-01-15T09:58:27.785392Z"
    },
    "papermill": {
     "duration": 0.023202,
     "end_time": "2024-01-15T09:58:27.788265",
     "exception": false,
     "start_time": "2024-01-15T09:58:27.765063",
     "status": "completed"
    },
    "tags": []
   },
   "outputs": [
    {
     "data": {
      "text/plain": [
       "array([0.0976, 0.1   , 0.1034, 0.0988, 0.099 , 0.1022, 0.0942, 0.1024,\n",
       "       0.1072, 0.0952])"
      ]
     },
     "execution_count": 7,
     "metadata": {},
     "output_type": "execute_result"
    }
   ],
   "source": [
    "vanilla_validation_acc = np.array(validation_accuracy[-10:])\n",
    "vanilla_validation_acc"
   ]
  },
  {
   "cell_type": "code",
   "execution_count": 8,
   "metadata": {
    "execution": {
     "iopub.execute_input": "2024-01-15T09:58:27.864745Z",
     "iopub.status.busy": "2024-01-15T09:58:27.864370Z",
     "iopub.status.idle": "2024-01-15T09:58:27.881961Z",
     "shell.execute_reply": "2024-01-15T09:58:27.881081Z"
    },
    "papermill": {
     "duration": 0.034445,
     "end_time": "2024-01-15T09:58:27.884004",
     "exception": false,
     "start_time": "2024-01-15T09:58:27.849559",
     "status": "completed"
    },
    "tags": []
   },
   "outputs": [],
   "source": [
    "validation_acc_df = pd.DataFrame(list(zip(range(10), bn_validation_acc.tolist(), vanilla_validation_acc.tolist())), columns=[\"order\", \"bn\", \"vanilla\"])\n",
    "validation_acc_df.to_csv(\"ExC_validation_acc.csv\",index=False)"
   ]
  },
  {
   "cell_type": "code",
   "execution_count": 9,
   "metadata": {
    "execution": {
     "iopub.execute_input": "2024-01-15T09:58:27.913802Z",
     "iopub.status.busy": "2024-01-15T09:58:27.912788Z",
     "iopub.status.idle": "2024-01-15T09:58:28.340026Z",
     "shell.execute_reply": "2024-01-15T09:58:28.339198Z"
    },
    "papermill": {
     "duration": 0.444069,
     "end_time": "2024-01-15T09:58:28.342158",
     "exception": false,
     "start_time": "2024-01-15T09:58:27.898089",
     "status": "completed"
    },
    "tags": []
   },
   "outputs": [
    {
     "data": {
      "image/png": "[encoded data removed]",
      "text/plain": [
       "<Figure size 640x480 with 1 Axes>"
      ]
     },
     "metadata": {},
     "output_type": "display_data"
    }
   ],
   "source": [
    "index = [\"1st\", \"2nd\", \"3rd\", \"4th\", \"5th\", \"6th\", \"7th\", \"8th\", \"9th\", \"10th\"]\n",
    "\n",
    "df = pd.DataFrame({'bn': np.sort(bn_validation_acc).tolist(), 'vanilla': np.sort(vanilla_validation_acc,).tolist()}, index=index)\n",
    "df.plot.barh()\n",
    "plt.savefig('ExC_validation_acc.png')"
   ]
  }
 ],
 "metadata": {
  "kaggle": {
   "accelerator": "gpu",
   "dataSources": [
    {
     "sourceId": 153432666,
     "sourceType": "kernelVersion"
    }
   ],
   "dockerImageVersionId": 30636,
   "isGpuEnabled": true,
   "isInternetEnabled": true,
   "language": "python",
   "sourceType": "notebook"
  },
  "kernelspec": {
   "display_name": "Python 3",
   "language": "python",
   "name": "python3"
  },
  "language_info": {
   "codemirror_mode": {
    "name": "ipython",
    "version": 3
   },
   "file_extension": ".py",
   "mimetype": "text/x-python",
   "name": "python",
   "nbconvert_exporter": "python",
   "pygments_lexer": "ipython3",
   "version": "3.6.7"
  },
  "papermill": {
   "default_parameters": {},
   "duration": 1558.501648,
   "end_time": "2024-01-15T09:58:29.682366",
   "environment_variables": {},
   "exception": null,
   "input_path": "__notebook__.ipynb",
   "output_path": "__notebook__.ipynb",
   "parameters": {},
   "start_time": "2024-01-15T09:32:31.180718",
   "version": "2.4.0"
  },
  "widgets": {
   "application/vnd.jupyter.widget-state+json": {
    "state": {
     "00941f452b014da48d6d80a1a6b18fa1": {
      "model_module": "@jupyter-widgets/controls",
      "model_module_version": "1.5.0",
      "model_name": "DescriptionStyleModel",
      "state": {
       "_model_module": "@jupyter-widgets/controls",
       "_model_module_version": "1.5.0",
       "_model_name": "DescriptionStyleModel",
       "_view_count": null,
       "_view_module": "@jupyter-widgets/base",
       "_view_module_version": "1.2.0",
       "_view_name": "StyleView",
       "description_width": ""
      }
     },
     "212e7186ec7a4bdeb6518e0f9e417d92": {
      "model_module": "@jupyter-widgets/base",
      "model_module_version": "1.2.0",
      "model_name": "LayoutModel",
      "state": {
       "_model_module": "@jupyter-widgets/base",
       "_model_module_version": "1.2.0",
       "_model_name": "LayoutModel",
       "_view_count": null,
       "_view_module": "@jupyter-widgets/base",
       "_view_module_version": "1.2.0",
       "_view_name": "LayoutView",
       "align_content": null,
       "align_items": null,
       "align_self": null,
       "border": null,
       "bottom": null,
       "display": null,
       "flex": null,
       "flex_flow": null,
       "grid_area": null,
       "grid_auto_columns": null,
       "grid_auto_flow": null,
       "grid_auto_rows": null,
       "grid_column": null,
       "grid_gap": null,
       "grid_row": null,
       "grid_template_areas": null,
       "grid_template_columns": null,
       "grid_template_rows": null,
       "height": null,
       "justify_content": null,
       "justify_items": null,
       "left": null,
       "margin": null,
       "max_height": null,
       "max_width": null,
       "min_height": null,
       "min_width": null,
       "object_fit": null,
       "object_position": null,
       "order": null,
       "overflow": null,
       "overflow_x": null,
       "overflow_y": null,
       "padding": null,
       "right": null,
       "top": null,
       "visibility": null,
       "width": null
      }
     },
     "5f9775e5c6d044da9eda0a4621a4e15d": {
      "model_module": "@jupyter-widgets/controls",
      "model_module_version": "1.5.0",
      "model_name": "ProgressStyleModel",
      "state": {
       "_model_module": "@jupyter-widgets/controls",
       "_model_module_version": "1.5.0",
       "_model_name": "ProgressStyleModel",
       "_view_count": null,
       "_view_module": "@jupyter-widgets/base",
       "_view_module_version": "1.2.0",
       "_view_name": "StyleView",
       "bar_color": null,
       "description_width": ""
      }
     },
     "6ac4481d836d49adbd39ba40c3174396": {
      "model_module": "@jupyter-widgets/controls",
      "model_module_version": "1.5.0",
      "model_name": "HTMLModel",
      "state": {
       "_dom_classes": [],
       "_model_module": "@jupyter-widgets/controls",
       "_model_module_version": "1.5.0",
       "_model_name": "HTMLModel",
       "_view_count": null,
       "_view_module": "@jupyter-widgets/controls",
       "_view_module_version": "1.5.0",
       "_view_name": "HTMLView",
       "description": "",
       "description_tooltip": null,
       "layout": "IPY_MODEL_ca7166462d984abf8a9fc3d867a0b9bc",
       "placeholder": "​",
       "style": "IPY_MODEL_a4685147111d436898aff3b8248e8a99",
       "value": "Computing forget accuracy...: 100%"
      }
     },
     "8d12c38974d748e9a72857e1872b307c": {
      "model_module": "@jupyter-widgets/controls",
      "model_module_version": "1.5.0",
      "model_name": "FloatProgressModel",
      "state": {
       "_dom_classes": [],
       "_model_module": "@jupyter-widgets/controls",
       "_model_module_version": "1.5.0",
       "_model_name": "FloatProgressModel",
       "_view_count": null,
       "_view_module": "@jupyter-widgets/controls",
       "_view_module_version": "1.5.0",
       "_view_name": "ProgressView",
       "bar_style": "success",
       "description": "",
       "description_tooltip": null,
       "layout": "IPY_MODEL_a9249a30a88447d3a5ca03a505b9ed8a",
       "max": 10,
       "min": 0,
       "orientation": "horizontal",
       "style": "IPY_MODEL_5f9775e5c6d044da9eda0a4621a4e15d",
       "value": 10
      }
     },
     "a41950d489554250805e52583dddb4ad": {
      "model_module": "@jupyter-widgets/base",
      "model_module_version": "1.2.0",
      "model_name": "LayoutModel",
      "state": {
       "_model_module": "@jupyter-widgets/base",
       "_model_module_version": "1.2.0",
       "_model_name": "LayoutModel",
       "_view_count": null,
       "_view_module": "@jupyter-widgets/base",
       "_view_module_version": "1.2.0",
       "_view_name": "LayoutView",
       "align_content": null,
       "align_items": null,
       "align_self": null,
       "border": null,
       "bottom": null,
       "display": null,
       "flex": null,
       "flex_flow": null,
       "grid_area": null,
       "grid_auto_columns": null,
       "grid_auto_flow": null,
       "grid_auto_rows": null,
       "grid_column": null,
       "grid_gap": null,
       "grid_row": null,
       "grid_template_areas": null,
       "grid_template_columns": null,
       "grid_template_rows": null,
       "height": null,
       "justify_content": null,
       "justify_items": null,
       "left": null,
       "margin": null,
       "max_height": null,
       "max_width": null,
       "min_height": null,
       "min_width": null,
       "object_fit": null,
       "object_position": null,
       "order": null,
       "overflow": null,
       "overflow_x": null,
       "overflow_y": null,
       "padding": null,
       "right": null,
       "top": null,
       "visibility": null,
       "width": null
      }
     },
     "a4685147111d436898aff3b8248e8a99": {
      "model_module": "@jupyter-widgets/controls",
      "model_module_version": "1.5.0",
      "model_name": "DescriptionStyleModel",
      "state": {
       "_model_module": "@jupyter-widgets/controls",
       "_model_module_version": "1.5.0",
       "_model_name": "DescriptionStyleModel",
       "_view_count": null,
       "_view_module": "@jupyter-widgets/base",
       "_view_module_version": "1.2.0",
       "_view_name": "StyleView",
       "description_width": ""
      }
     },
     "a9249a30a88447d3a5ca03a505b9ed8a": {
      "model_module": "@jupyter-widgets/base",
      "model_module_version": "1.2.0",
      "model_name": "LayoutModel",
      "state": {
       "_model_module": "@jupyter-widgets/base",
       "_model_module_version": "1.2.0",
       "_model_name": "LayoutModel",
       "_view_count": null,
       "_view_module": "@jupyter-widgets/base",
       "_view_module_version": "1.2.0",
       "_view_name": "LayoutView",
       "align_content": null,
       "align_items": null,
       "align_self": null,
       "border": null,
       "bottom": null,
       "display": null,
       "flex": null,
       "flex_flow": null,
       "grid_area": null,
       "grid_auto_columns": null,
       "grid_auto_flow": null,
       "grid_auto_rows": null,
       "grid_column": null,
       "grid_gap": null,
       "grid_row": null,
       "grid_template_areas": null,
       "grid_template_columns": null,
       "grid_template_rows": null,
       "height": null,
       "justify_content": null,
       "justify_items": null,
       "left": null,
       "margin": null,
       "max_height": null,
       "max_width": null,
       "min_height": null,
       "min_width": null,
       "object_fit": null,
       "object_position": null,
       "order": null,
       "overflow": null,
       "overflow_x": null,
       "overflow_y": null,
       "padding": null,
       "right": null,
       "top": null,
       "visibility": null,
       "width": null
      }
     },
     "ca7166462d984abf8a9fc3d867a0b9bc": {
      "model_module": "@jupyter-widgets/base",
      "model_module_version": "1.2.0",
      "model_name": "LayoutModel",
      "state": {
       "_model_module": "@jupyter-widgets/base",
       "_model_module_version": "1.2.0",
       "_model_name": "LayoutModel",
       "_view_count": null,
       "_view_module": "@jupyter-widgets/base",
       "_view_module_version": "1.2.0",
       "_view_name": "LayoutView",
       "align_content": null,
       "align_items": null,
       "align_self": null,
       "border": null,
       "bottom": null,
       "display": null,
       "flex": null,
       "flex_flow": null,
       "grid_area": null,
       "grid_auto_columns": null,
       "grid_auto_flow": null,
       "grid_auto_rows": null,
       "grid_column": null,
       "grid_gap": null,
       "grid_row": null,
       "grid_template_areas": null,
       "grid_template_columns": null,
       "grid_template_rows": null,
       "height": null,
       "justify_content": null,
       "justify_items": null,
       "left": null,
       "margin": null,
       "max_height": null,
       "max_width": null,
       "min_height": null,
       "min_width": null,
       "object_fit": null,
       "object_position": null,
       "order": null,
       "overflow": null,
       "overflow_x": null,
       "overflow_y": null,
       "padding": null,
       "right": null,
       "top": null,
       "visibility": null,
       "width": null
      }
     },
     "dcff9d39c99747c29b080f10e9e4ceb9": {
      "model_module": "@jupyter-widgets/controls",
      "model_module_version": "1.5.0",
      "model_name": "HBoxModel",
      "state": {
       "_dom_classes": [],
       "_model_module": "@jupyter-widgets/controls",
       "_model_module_version": "1.5.0",
       "_model_name": "HBoxModel",
       "_view_count": null,
       "_view_module": "@jupyter-widgets/controls",
       "_view_module_version": "1.5.0",
       "_view_name": "HBoxView",
       "box_style": "",
       "children": [
        "IPY_MODEL_6ac4481d836d49adbd39ba40c3174396",
        "IPY_MODEL_8d12c38974d748e9a72857e1872b307c",
        "IPY_MODEL_edc95e562467482bba9a8bdd25c9372d"
       ],
       "layout": "IPY_MODEL_212e7186ec7a4bdeb6518e0f9e417d92"
      }
     },
     "edc95e562467482bba9a8bdd25c9372d": {
      "model_module": "@jupyter-widgets/controls",
      "model_module_version": "1.5.0",
      "model_name": "HTMLModel",
      "state": {
       "_dom_classes": [],
       "_model_module": "@jupyter-widgets/controls",
       "_model_module_version": "1.5.0",
       "_model_name": "HTMLModel",
       "_view_count": null,
       "_view_module": "@jupyter-widgets/controls",
       "_view_module_version": "1.5.0",
       "_view_name": "HTMLView",
       "description": "",
       "description_tooltip": null,
       "layout": "IPY_MODEL_a41950d489554250805e52583dddb4ad",
       "placeholder": "​",
       "style": "IPY_MODEL_00941f452b014da48d6d80a1a6b18fa1",
       "value": " 10/10 [2:05:18&lt;00:00, 751.29s/it]"
      }
     }
    },
    "version_major": 2,
    "version_minor": 0
   }
  }
 },
 "nbformat": 4,
 "nbformat_minor": 5
}
